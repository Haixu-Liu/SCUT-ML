{
 "cells": [
  {
   "cell_type": "code",
   "execution_count": 2,
   "metadata": {},
   "outputs": [
    {
     "data": {
      "image/png": "[encoded data removed]",
      "text/plain": [
       "<Figure size 432x288 with 1 Axes>"
      ]
     },
     "metadata": {
      "needs_background": "light"
     },
     "output_type": "display_data"
    }
   ],
   "source": [
    "from sklearn.datasets import load_svmlight_file\n",
    "from sklearn.model_selection import train_test_split\n",
    "import numpy as np\n",
    "from numpy import random\n",
    "from scipy.sparse import csr_matrix\n",
    "import matplotlib.pyplot as plt\n",
    "\n",
    "# 数据读取\n",
    "data = load_svmlight_file(\"housing_scale.txt\")\n",
    "# 数据切分\n",
    "data_train, data_test, value_train, value_test = train_test_split(data[0], data[1], test_size=0.33)\n",
    "\n",
    "# 初始化\n",
    "learning_rate = 0.0005\n",
    "initial_w = random.random(size=(14, 1))\n",
    "num_iter = 1000\n",
    "\n",
    "# 偏移值\n",
    "bias_train = np.mat(np.ones(shape=[data_train.shape[0], 1]))\n",
    "bias_train = csr_matrix(bias_train).todense()\n",
    "\n",
    "bias_test = np.mat(np.ones(shape=[data_test.shape[0], 1]))\n",
    "bias_test = csr_matrix(bias_test).todense()\n",
    "\n",
    "# 训练集矩阵\n",
    "x_mat_train = csr_matrix(data_train).todense()\n",
    "x_mat_train = np.hstack((x_mat_train, bias_train))\n",
    "\n",
    "y_train = np.mat(value_train).T\n",
    "y_mat_train = csr_matrix(y_train).todense()\n",
    "\n",
    "# 验证集矩阵\n",
    "x_mat_test = csr_matrix(data_test).todense()\n",
    "x_mat_test = np.hstack((x_mat_test, bias_test))\n",
    "\n",
    "y_test = np.mat(value_test).T\n",
    "y_mat_test = csr_matrix(y_test).todense()\n",
    "\n",
    "# 求梯度\n",
    "initial_w = csr_matrix(initial_w).todense()\n",
    "gradient = - np.dot(x_mat_train.T, y_mat_train) + np.dot(np.dot(x_mat_train.T, x_mat_train), initial_w)\n",
    "d = - gradient\n",
    "w = initial_w\n",
    "\n",
    "# 用列表表示每一次迭代的损失率\n",
    "loss_list_train = []\n",
    "loss_list_test = []\n",
    "\n",
    "# 梯度下降\n",
    "for i in range(num_iter):\n",
    "    # w，d的迭代更新\n",
    "    w = w + learning_rate * d\n",
    "    d = np.dot(x_mat_train.T, y_mat_train) - np.dot(np.dot(x_mat_train.T, x_mat_train), w)\n",
    "    # d_test = np.dot(x_mat_test.T, y_mat_test) - np.dot(np.dot(x_mat_test.T, x_mat_test), w)\n",
    "\n",
    "    loss_train = np.dot((y_mat_train - np.dot(x_mat_train, w)).T, (y_mat_train - np.dot(x_mat_train, w))) / 2 / 339\n",
    "    loss_test = np.dot((y_mat_test - np.dot(x_mat_test, w)).T, (y_mat_test - np.dot(x_mat_test, w))) / 2 / 167\n",
    "\n",
    "    loss_list_train.append(loss_train.tolist()[0][0])\n",
    "    loss_list_test.append(loss_test.tolist()[0][0])\n",
    "\n",
    "# 图像输出\n",
    "plt.plot(np.arange(0, num_iter), loss_list_train, label=u'train')\n",
    "plt.plot(np.arange(0, num_iter), loss_list_test, label=u'validation')\n",
    "plt.legend()\n",
    "plt.title(u'linear regression & gradient descent')\n",
    "plt.xlabel(u\"iteration times\")\n",
    "plt.ylabel(u\"loss ratio\")\n",
    "\n",
    "plt.show()\n"
   ]
  },
  {
   "cell_type": "code",
   "execution_count": null,
   "metadata": {
    "collapsed": true
   },
   "outputs": [],
   "source": []
  },
  {
   "cell_type": "code",
   "execution_count": null,
   "metadata": {
    "collapsed": true
   },
   "outputs": [],
   "source": []
  },
  {
   "cell_type": "code",
   "execution_count": null,
   "metadata": {
    "collapsed": true
   },
   "outputs": [],
   "source": []
  }
 ],
 "metadata": {
  "kernelspec": {
   "display_name": "Python 3",
   "language": "python",
   "name": "python3"
  },
  "language_info": {
   "codemirror_mode": {
    "name": "ipython",
    "version": 3
   },
   "file_extension": ".py",
   "mimetype": "text/x-python",
   "name": "python",
   "nbconvert_exporter": "python",
   "pygments_lexer": "ipython3",
   "version": "3.7.3"
  }
 },
 "nbformat": 4,
 "nbformat_minor": 2
}
